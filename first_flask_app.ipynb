{
  "nbformat": 4,
  "nbformat_minor": 0,
  "metadata": {
    "colab": {
      "name": "first_flask_app.ipynb",
      "provenance": [],
      "collapsed_sections": [],
      "authorship_tag": "ABX9TyN7Yr64m7PJR4eNefM4ke9q",
      "include_colab_link": true
    },
    "kernelspec": {
      "name": "python3",
      "display_name": "Python 3"
    },
    "language_info": {
      "name": "python"
    }
  },
  "cells": [
    {
      "cell_type": "markdown",
      "metadata": {
        "id": "view-in-github",
        "colab_type": "text"
      },
      "source": [
        "<a href=\"https://colab.research.google.com/github/caroheymes/flask_app_colab/blob/master/first_flask_app.ipynb\" target=\"_parent\"><img src=\"https://colab.research.google.com/assets/colab-badge.svg\" alt=\"Open In Colab\"/></a>"
      ]
    },
    {
      "cell_type": "markdown",
      "metadata": {
        "id": "EF7sEOo0IYlW"
      },
      "source": [
        "# My first flask app in colab"
      ]
    },
    {
      "cell_type": "code",
      "metadata": {
        "id": "vsZshEXV0_et"
      },
      "source": [
        "!pip install flask-ngrok\n",
        "!pip install flask-bootstrap"
      ],
      "execution_count": null,
      "outputs": []
    },
    {
      "cell_type": "code",
      "metadata": {
        "colab": {
          "base_uri": "https://localhost:8080/"
        },
        "id": "_jR3mhFVHIcZ",
        "outputId": "3f096d23-e382-4eac-b47a-2d81528ab572"
      },
      "source": [
        "from google.colab import drive\n",
        "drive.mount('/content/drive')"
      ],
      "execution_count": null,
      "outputs": [
        {
          "output_type": "stream",
          "name": "stdout",
          "text": [
            "Drive already mounted at /content/drive; to attempt to forcibly remount, call drive.mount(\"/content/drive\", force_remount=True).\n"
          ]
        }
      ]
    },
    {
      "cell_type": "code",
      "metadata": {
        "id": "HrkBMztPUcsV"
      },
      "source": [
        "import os\n",
        "os.chdir('/content/drive/MyDrive/1_app_flask')"
      ],
      "execution_count": null,
      "outputs": []
    },
    {
      "cell_type": "code",
      "metadata": {
        "colab": {
          "base_uri": "https://localhost:8080/"
        },
        "id": "BDGWL-j07Naq",
        "outputId": "6becc77a-7c03-483e-d450-ae80dc6c5cf7"
      },
      "source": [
        "!pip install wget\n",
        "import widgetsnbextension\n",
        "!wget https://julie-2-next-resources.s3.eu-west-3.amazonaws.com/FULL_STACK_24_WEEK_PROGRAM/M09-Deployment/D06-Serve_your_model_with_API/build_a_spam_filter.zip"
      ],
      "execution_count": 12,
      "outputs": [
        {
          "output_type": "stream",
          "name": "stdout",
          "text": [
            "Collecting wget\n",
            "  Downloading wget-3.2.zip (10 kB)\n",
            "Building wheels for collected packages: wget\n",
            "  Building wheel for wget (setup.py) ... \u001b[?25l\u001b[?25hdone\n",
            "  Created wheel for wget: filename=wget-3.2-py3-none-any.whl size=9672 sha256=30fd5bcb8d734ac9d7f2df1d286ac626c9d904446f62db535c9d2f7f842f1052\n",
            "  Stored in directory: /root/.cache/pip/wheels/a1/b6/7c/0e63e34eb06634181c63adacca38b79ff8f35c37e3c13e3c02\n",
            "Successfully built wget\n",
            "Installing collected packages: wget\n",
            "Successfully installed wget-3.2\n",
            "--2021-11-03 22:31:14--  https://julie-2-next-resources.s3.eu-west-3.amazonaws.com/FULL_STACK_24_WEEK_PROGRAM/M09-Deployment/D06-Serve_your_model_with_API/build_a_spam_filter.zip\n",
            "Resolving julie-2-next-resources.s3.eu-west-3.amazonaws.com (julie-2-next-resources.s3.eu-west-3.amazonaws.com)... 52.95.154.8\n",
            "Connecting to julie-2-next-resources.s3.eu-west-3.amazonaws.com (julie-2-next-resources.s3.eu-west-3.amazonaws.com)|52.95.154.8|:443... connected.\n",
            "HTTP request sent, awaiting response... 200 OK\n",
            "Length: 2048364 (2.0M) [binary/octet-stream]\n",
            "Saving to: ‘build_a_spam_filter.zip’\n",
            "\n",
            "build_a_spam_filter 100%[===================>]   1.95M  3.03MB/s    in 0.6s    \n",
            "\n",
            "2021-11-03 22:31:15 (3.03 MB/s) - ‘build_a_spam_filter.zip’ saved [2048364/2048364]\n",
            "\n"
          ]
        }
      ]
    },
    {
      "cell_type": "code",
      "metadata": {
        "colab": {
          "base_uri": "https://localhost:8080/"
        },
        "id": "UQSCb3wb7b_i",
        "outputId": "147dd9fe-ea99-46a4-ef9b-32429e23db5e"
      },
      "source": [
        "!unzip build_a_spam_filter.zip"
      ],
      "execution_count": 15,
      "outputs": [
        {
          "output_type": "stream",
          "name": "stdout",
          "text": [
            "Archive:  build_a_spam_filter.zip\n",
            "   creating: build_a_spam_filter/\n",
            " extracting: build_a_spam_filter/requirements.txt  \n",
            "   creating: build_a_spam_filter/datas/\n",
            "  inflating: build_a_spam_filter/datas/spam_dataset.csv  \n",
            "   creating: build_a_spam_filter/datas/.ipynb_checkpoints/\n",
            "  inflating: build_a_spam_filter/datas/deleteme.csv  \n",
            "   creating: build_a_spam_filter/models/\n",
            "  inflating: build_a_spam_filter/models/spam_classifier.joblib  \n",
            "  inflating: build_a_spam_filter/train.py  \n",
            "  inflating: build_a_spam_filter/app.py  \n"
          ]
        }
      ]
    },
    {
      "cell_type": "code",
      "metadata": {
        "id": "zG3ky2nP70TI"
      },
      "source": [
        "import os\n",
        "import joblib\n",
        "import pandas as pd\n",
        "from sklearn.model_selection import train_test_split\n",
        "from sklearn.pipeline import Pipeline\n",
        "from sklearn.feature_extraction.text import CountVectorizer\n",
        "from sklearn.linear_model import LogisticRegression\n",
        "from sklearn.metrics import accuracy_score"
      ],
      "execution_count": 16,
      "outputs": []
    },
    {
      "cell_type": "code",
      "metadata": {
        "id": "YG_KIRsq74bA"
      },
      "source": [
        "df = pd.read_csv('build_a_spam_filter/datas/spam_dataset.csv')"
      ],
      "execution_count": 18,
      "outputs": []
    },
    {
      "cell_type": "code",
      "metadata": {
        "id": "ZwGlx7C28EiB"
      },
      "source": [
        "df.drop(columns=['Unnamed: 0'], inplace=True)"
      ],
      "execution_count": 22,
      "outputs": []
    },
    {
      "cell_type": "code",
      "metadata": {
        "colab": {
          "base_uri": "https://localhost:8080/"
        },
        "id": "_rWgu0UY850a",
        "outputId": "912f8a9d-82df-4941-c038-254dbfba0b83"
      },
      "source": [
        "ls"
      ],
      "execution_count": 25,
      "outputs": [
        {
          "output_type": "stream",
          "name": "stdout",
          "text": [
            "\u001b[0m\u001b[01;34mbuild_a_spam_filter\u001b[0m/  build_a_spam_filter.zip  \u001b[01;34mstatic\u001b[0m/  \u001b[01;34mtemplates\u001b[0m/\n"
          ]
        }
      ]
    },
    {
      "cell_type": "code",
      "metadata": {
        "colab": {
          "base_uri": "https://localhost:8080/"
        },
        "id": "UmXODixk8NOl",
        "outputId": "b854c0f3-30ae-4db5-ff8b-98cdb4992da3"
      },
      "source": [
        "# Get X and y\n",
        "X = df[\"email\"]\n",
        "y = df[\"label\"]\n",
        "# Split dataset into train set and test set\n",
        "X_train, X_test, y_train, y_test = train_test_split(X, y, random_state=42)\n",
        "# Build a pipeline with our CountVectorizer and our LogisticRegression model\n",
        "classifier = Pipeline([(\"vectorizer\", CountVectorizer()), (\"classifier\", LogisticRegression(solver=\"liblinear\"))])\n",
        "# Fit our classifier\n",
        "# Fit our classifier\n",
        "classifier.fit(X_train, y_train)\n",
        "# Compute accuracy on test set\n",
        "accuracy = accuracy_score(classifier.predict(X_test), y_test)\n",
        "print(\"Accuracy: \", accuracy)\n",
        "# Save our model with joblib\n",
        "joblib.dump(classifier, os.path.join('/content/drive/MyDrive/1_app_flask/build_a_spam_filter/models', \"spam_classifier.joblib\"))"
      ],
      "execution_count": 26,
      "outputs": [
        {
          "output_type": "stream",
          "name": "stdout",
          "text": [
            "Accuracy:  0.992\n"
          ]
        },
        {
          "output_type": "execute_result",
          "data": {
            "text/plain": [
              "['/content/drive/MyDrive/1_app_flask/build_a_spam_filter/models/spam_classifier.joblib']"
            ]
          },
          "metadata": {},
          "execution_count": 26
        }
      ]
    },
    {
      "cell_type": "code",
      "metadata": {
        "colab": {
          "base_uri": "https://localhost:8080/"
        },
        "id": "K_tblsOg08BL",
        "outputId": "60c7d9b7-2309-46e1-f703-11a9f021d1e6"
      },
      "source": [
        "from flask import Flask, url_for, request, jsonify,render_template\n",
        "import joblib\n",
        "import requests\n",
        "from flask_ngrok import run_with_ngrok\n",
        "\n",
        "TEMPLATE = './templates'\n",
        "STATIC = './static'\n",
        "\n",
        "app = Flask(__name__, \n",
        "            template_folder=TEMPLATE, \n",
        "            static_folder=STATIC)\n",
        "\n",
        "\n",
        "run_with_ngrok(app)\n",
        "\n",
        "@app.route(\"/\")\n",
        "def index():\n",
        "   return render_template('index.html')\n",
        " \n",
        "@app.route(\"/spam\", methods=[\"POST\"])\n",
        "def pred():\n",
        "    # return render_template('index.html')\n",
        "    # Check if request has a JSON content\n",
        "    if request.json:\n",
        "        # Get the JSON as dictionnary\n",
        "        req = request.get_json()\n",
        "        # Check mandatory key\n",
        "        if \"email\" in req.keys():\n",
        "            # Load model\n",
        "            classifier = joblib.load(\"./build_a_spam_filter/models/spam_classifier.joblib\")\n",
        "            # Predict\n",
        "            prediction = classifier.predict([req[\"email\"]])\n",
        "            # Return the result as JSON but first we need to transform the\n",
        "            # result so as to be serializable by jsonify()\n",
        "            prediction = str(prediction[0])\n",
        "            return jsonify({\"predict\": prediction}), 200\n",
        "    return jsonify({\"msg\": \"Error: not a JSON or no email key in your request\"})\n",
        "\n",
        "\n",
        "@app.route(\"/more_love\")\n",
        "def more_love():\n",
        "    things_i_love = [\n",
        "        \"Star Wars\",\n",
        "        \"Coffee\",\n",
        "        \"Cookies\",\n",
        "    ]\n",
        "    return render_template(\"more_love.html\", things_i_love=things_i_love)\n",
        "\n",
        "\n",
        "# # @app.route(\"/url_for_about\")\n",
        "# def urls():\n",
        "#     return \"{}\".format(url_for(\"about\"))\n",
        "\n",
        "  \n",
        "app.run()"
      ],
      "execution_count": 50,
      "outputs": [
        {
          "output_type": "stream",
          "name": "stdout",
          "text": [
            " * Serving Flask app \"__main__\" (lazy loading)\n",
            " * Environment: production\n",
            "\u001b[31m   WARNING: This is a development server. Do not use it in a production deployment.\u001b[0m\n",
            "\u001b[2m   Use a production WSGI server instead.\u001b[0m\n",
            " * Debug mode: off\n"
          ]
        },
        {
          "output_type": "stream",
          "name": "stderr",
          "text": [
            " * Running on http://127.0.0.1:5000/ (Press CTRL+C to quit)\n"
          ]
        },
        {
          "output_type": "stream",
          "name": "stdout",
          "text": [
            " * Running on http://dad3-35-231-242-231.ngrok.io\n",
            " * Traffic stats available on http://127.0.0.1:4040\n"
          ]
        },
        {
          "output_type": "stream",
          "name": "stderr",
          "text": [
            "127.0.0.1 - - [03/Nov/2021 23:07:16] \"\u001b[37mPOST /spam HTTP/1.1\u001b[0m\" 200 -\n",
            "127.0.0.1 - - [03/Nov/2021 23:08:27] \"\u001b[37mPOST /spam HTTP/1.1\u001b[0m\" 200 -\n"
          ]
        }
      ]
    },
    {
      "cell_type": "code",
      "metadata": {
        "id": "xWXLQy1xAoKG"
      },
      "source": [
        "#Dans un autre notebook\n",
        "import requests\n",
        "response_non_spam = requests.post(\"http://dad3-35-231-242-231.ngrok.io/spam\", json={\"email\": \"money sex bitcoin his lawsuit against todd spawn mcfarlane vindicated in his assertion that mcfarlane breached his contracts stole his characters and used his name mcfarlane looked down somberly as the verdict was read as the judge polled the individual jury members he looked at their faces link number discuss number _thanks gnat number _ number url number url number url\"})\n",
        "response_non_spam.json()"
      ],
      "execution_count": null,
      "outputs": []
    },
    {
      "cell_type": "code",
      "metadata": {
        "id": "gQdXkraD5M0I"
      },
      "source": [
        "#Pour éteindre l'app\n",
        "app.do_teardown_appcontext()"
      ],
      "execution_count": 51,
      "outputs": []
    },
    {
      "cell_type": "markdown",
      "metadata": {
        "id": "up1e9xrfIL7W"
      },
      "source": [
        "# Autre version"
      ]
    },
    {
      "cell_type": "code",
      "metadata": {
        "colab": {
          "base_uri": "https://localhost:8080/"
        },
        "id": "GbDwKEN0OFmE",
        "outputId": "a1ab6573-7aab-46de-a99a-5a48ed1a3fd9"
      },
      "source": [
        "import os\n",
        "import threading\n",
        "\n",
        "from flask import Flask\n",
        "from pyngrok import ngrok\n",
        "\n",
        "# os.environ[\"FLASK_ENV\"] = \"development\"\n",
        "\n",
        "TEMPLATE = './templates'\n",
        "STATIC = './static'\n",
        "\n",
        "\n",
        "app = Flask(__name__,template_folder=TEMPLATE, \n",
        "            static_folder=STATIC)\n",
        "port = 5000\n",
        "\n",
        "# Open a ngrok tunnel to the HTTP server\n",
        "public_url = ngrok.connect(port).public_url\n",
        "print(\" * ngrok tunnel \\\"{}\\\" -> \\\"http://127.0.0.1:{}\\\"\".format(public_url, port))\n",
        "\n",
        "# Update any base URLs to use the public ngrok URL\n",
        "app.config[\"BASE_URL\"] = public_url\n",
        "\n",
        "# ... Update inbound traffic via APIs to use the public-facing ngrok URL\n",
        "\n",
        "\n",
        "# Define Flask routes\n",
        "@app.route(\"/\")\n",
        "def index():\n",
        "    return render_template('index.html')\n",
        "\n",
        "\n",
        "@app.route(\"/more_love\")\n",
        "def more_love():\n",
        "    things_i_love = [\n",
        "        \"Star Wars\",\n",
        "        \"Coffee\",\n",
        "        \"Cookies\",\n",
        "    ]\n",
        "    return render_template(\"more_love.html\", things_i_love=things_i_love)\n",
        "# Start the Flask server in a new thread\n",
        "threading.Thread(target=app.run, kwargs={\"use_reloader\": False}).start()"
      ],
      "execution_count": null,
      "outputs": [
        {
          "output_type": "stream",
          "name": "stdout",
          "text": [
            " * ngrok tunnel \"http://2b79-35-231-242-231.ngrok.io\" -> \"http://127.0.0.1:5000\"\n",
            " * Serving Flask app \"__main__\" (lazy loading)\n",
            " * Environment: production\n",
            "\u001b[31m   WARNING: This is a development server. Do not use it in a production deployment.\u001b[0m\n",
            "\u001b[2m   Use a production WSGI server instead.\u001b[0m\n",
            " * Debug mode: off\n"
          ]
        }
      ]
    },
    {
      "cell_type": "code",
      "metadata": {
        "colab": {
          "base_uri": "https://localhost:8080/"
        },
        "id": "b3kRfT4g8dCc",
        "outputId": "d5caddbb-ff0c-4304-eb0e-af2ad71e2c5b"
      },
      "source": [
        "!ps -fA | grep python"
      ],
      "execution_count": null,
      "outputs": [
        {
          "output_type": "stream",
          "name": "stdout",
          "text": [
            "root          41       7  0 17:20 ?        00:00:08 python3 /usr/local/bin/colab-fileshim.py\n",
            "root          54       7  0 17:20 ?        00:00:19 /usr/bin/python2 /usr/local/bin/jupyter-notebook --ip=\"172.28.0.2\" --port=9000 --FileContentsManager.root_dir=\"/\" --MappingKernelManager.root_dir=\"/content\"\n",
            "root         878       1  0 18:44 ?        00:00:00 bash -c tail -n +0 -F \"/root/.config/Google/DriveFS/Logs/drive_fs.txt\" | python3 /opt/google/drive/drive-filter.py > \"/root/.config/Google/DriveFS/Logs/timeouts.txt\" \n",
            "root         880     878  0 18:44 ?        00:00:00 python3 /opt/google/drive/drive-filter.py\n",
            "root        2531      54  0 20:24 ?        00:00:20 /usr/bin/python3 -m ipykernel_launcher -f /root/.local/share/jupyter/runtime/kernel-b9f229c3-34f6-4b53-92e7-610e55b862fb.json\n",
            "root        2551       1  0 20:24 ?        00:00:08 /usr/bin/python3 /usr/local/lib/python3.7/dist-packages/debugpy/adapter --for-server 36033 --host 127.0.0.1 --port 15699 --server-access-token a5999fc9b34b66ced4c08c7049a0c08df57ca0f457f49e37b03dd1f9d3da3103\n",
            "root        3154    2531  0 21:08 ?        00:00:00 /usr/local/lib/python3.7/dist-packages/pyngrok/bin/ngrok start --none --log=stdout\n",
            "root        3223    2531  0 21:10 ?        00:00:00 /bin/bash -c ps -fA | grep python\n",
            "root        3225    3223  0 21:10 ?        00:00:00 grep python\n"
          ]
        }
      ]
    },
    {
      "cell_type": "code",
      "metadata": {
        "colab": {
          "base_uri": "https://localhost:8080/"
        },
        "id": "rHPAb4UHBRvq",
        "outputId": "e8fbbd5e-c013-437b-f7af-097ebdf28fc3"
      },
      "source": [
        "!kill 3195"
      ],
      "execution_count": null,
      "outputs": [
        {
          "output_type": "stream",
          "name": "stdout",
          "text": [
            "/bin/bash: line 0: kill: (3195) - No such process\n"
          ]
        }
      ]
    }
  ]
}